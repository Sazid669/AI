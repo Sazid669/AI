{
  "cells": [
    {
      "cell_type": "markdown",
      "metadata": {
        "id": "1u5PMONmVynf"
      },
      "source": [
        "<img src=\"https://github.com/Fortuz/edu_Adaptive/blob/main/practices/assets/logo.png?raw=1\" width=\"800\">"
      ]
    },
    {
      "cell_type": "markdown",
      "metadata": {
        "id": "1X11XNiGVynh"
      },
      "source": [
        "Made by **Balázs Nagy** and **Márk Domokos**\n",
        "\n",
        "[<img src=\"https://github.com/Fortuz/edu_Adaptive/blob/main/practices/assets/open_button.png?raw=1\">](https://colab.research.google.com/github/Fortuz/edu_Adaptive/blob/main/practices/L08%20-%20Regularization_solved.ipynb)\n",
        "\n",
        "# Labor 08 - Regularisation of Linear Regression and Bias - Variance\n",
        "\n",
        "### Water flow\n",
        "\n",
        "In the first part of the exercise, a linear regression is implemented to predict the amount of water spilled from a tank based on how much water is in the tank. In the second half of the exercise, we observe the debugging of the learning algorithms and the bias and variance type errors."
      ]
    },
    {
      "cell_type": "markdown",
      "metadata": {
        "id": "fMVcBGypVyni"
      },
      "source": [
        "### 1: Import, load and visualise data"
      ]
    },
    {
      "cell_type": "code",
      "execution_count": 2,
      "metadata": {
        "id": "cPre8zgQVyni"
      },
      "outputs": [],
      "source": [
        "import numpy as np\n",
        "import matplotlib.pyplot as plt\n",
        "from scipy.io import loadmat\n",
        "import scipy.optimize as op\n",
        "\n",
        "# keras imports for the dataset and building our neural network\n",
        "from keras.models import Sequential\n",
        "from keras.layers import Dense, Activation\n",
        "from keras import regularizers\n",
        "from keras import optimizers\n",
        "\n",
        "\n",
        "from numpy.random import seed\n",
        "# Since this nootebook contains a random initialization it is advised to fix the seed, to get always the same random results\n",
        "seed(1)"
      ]
    },
    {
      "cell_type": "markdown",
      "metadata": {
        "id": "b185tS_pVynk"
      },
      "source": [
        "### 2: Load data"
      ]
    },
    {
      "cell_type": "markdown",
      "metadata": {
        "id": "qKj0dGL7Vynk"
      },
      "source": [
        "The data will be loaded from a publicly available file. An alternative solution would be to upload the data file directly to the google colab file system."
      ]
    },
    {
      "cell_type": "code",
      "execution_count": 3,
      "metadata": {
        "id": "bMCT3YDrVynk",
        "outputId": "41fe09f7-26f1-481d-9f98-0526baa8c18c",
        "colab": {
          "base_uri": "https://localhost:8080/"
        }
      },
      "outputs": [
        {
          "output_type": "stream",
          "name": "stdout",
          "text": [
            "--2024-12-19 00:37:56--  https://github.com/Fortuz/edu_Adaptive/raw/main/practices/assets/Lab08/Lab8data.mat\n",
            "Resolving github.com (github.com)... 140.82.116.4\n",
            "Connecting to github.com (github.com)|140.82.116.4|:443... connected.\n",
            "HTTP request sent, awaiting response... 302 Found\n",
            "Location: https://raw.githubusercontent.com/Fortuz/edu_Adaptive/main/practices/assets/Lab08/Lab8data.mat [following]\n",
            "--2024-12-19 00:37:56--  https://raw.githubusercontent.com/Fortuz/edu_Adaptive/main/practices/assets/Lab08/Lab8data.mat\n",
            "Resolving raw.githubusercontent.com (raw.githubusercontent.com)... 185.199.108.133, 185.199.109.133, 185.199.110.133, ...\n",
            "Connecting to raw.githubusercontent.com (raw.githubusercontent.com)|185.199.108.133|:443... connected.\n",
            "HTTP request sent, awaiting response... 200 OK\n",
            "Length: 1321 (1.3K) [application/octet-stream]\n",
            "Saving to: ‘Lab8data.mat’\n",
            "\n",
            "Lab8data.mat        100%[===================>]   1.29K  --.-KB/s    in 0s      \n",
            "\n",
            "2024-12-19 00:37:56 (50.2 MB/s) - ‘Lab8data.mat’ saved [1321/1321]\n",
            "\n",
            "--2024-12-19 00:37:56--  https://github.com/Fortuz/edu_Adaptive/raw/main/practices/assets/Lab08/w_final.txt\n",
            "Resolving github.com (github.com)... 140.82.112.3\n",
            "Connecting to github.com (github.com)|140.82.112.3|:443... connected.\n",
            "HTTP request sent, awaiting response... 302 Found\n",
            "Location: https://raw.githubusercontent.com/Fortuz/edu_Adaptive/main/practices/assets/Lab08/w_final.txt [following]\n",
            "--2024-12-19 00:37:56--  https://raw.githubusercontent.com/Fortuz/edu_Adaptive/main/practices/assets/Lab08/w_final.txt\n",
            "Resolving raw.githubusercontent.com (raw.githubusercontent.com)... 185.199.108.133, 185.199.109.133, 185.199.110.133, ...\n",
            "Connecting to raw.githubusercontent.com (raw.githubusercontent.com)|185.199.108.133|:443... connected.\n",
            "HTTP request sent, awaiting response... 200 OK\n",
            "Length: 155 [text/plain]\n",
            "Saving to: ‘w_final.txt’\n",
            "\n",
            "w_final.txt         100%[===================>]     155  --.-KB/s    in 0s      \n",
            "\n",
            "2024-12-19 00:37:57 (2.31 MB/s) - ‘w_final.txt’ saved [155/155]\n",
            "\n"
          ]
        }
      ],
      "source": [
        "!wget https://github.com/Fortuz/edu_Adaptive/raw/main/practices/assets/Lab08/Lab8data.mat\n",
        "!wget https://github.com/Fortuz/edu_Adaptive/raw/main/practices/assets/Lab08/w_final.txt"
      ]
    },
    {
      "cell_type": "markdown",
      "metadata": {
        "id": "KqvV9PulVynk"
      },
      "source": [
        "Load in the data! Use the Pandas package to do this and then convert it into a numpy array."
      ]
    },
    {
      "cell_type": "code",
      "execution_count": 4,
      "metadata": {
        "id": "XhuCHntZVynl",
        "outputId": "ecb8beb6-feb3-422f-aa0d-eaf41ebea930",
        "colab": {
          "base_uri": "https://localhost:8080/"
        }
      },
      "outputs": [
        {
          "output_type": "stream",
          "name": "stdout",
          "text": [
            "Shape of X: (12, 1)\n",
            "Shape of Y: (12, 1)\n"
          ]
        }
      ],
      "source": [
        "data = loadmat(\"Lab8data.mat\")\n",
        "X_train = data[\"X\"]\n",
        "Y_train = data[\"y\"]\n",
        "X_val   = data[\"Xval\"]\n",
        "Y_val   = data[\"yval\"]\n",
        "X_test  = data[\"Xtest\"]\n",
        "Y_test  = data[\"ytest\"]\n",
        "\n",
        "del data\n",
        "m,n = X_train.shape\n",
        "print('Shape of X:', X_train.shape)\n",
        "print('Shape of Y:', Y_train.shape)"
      ]
    },
    {
      "cell_type": "markdown",
      "metadata": {
        "id": "fyUH1r45Vynl"
      },
      "source": [
        "### 3: Visualization\n",
        "\n",
        "Let's vizualise the data set to understand it more."
      ]
    },
    {
      "cell_type": "code",
      "execution_count": 5,
      "metadata": {
        "id": "JZ1P-9DaVynl",
        "outputId": "39bc2825-ba42-49ea-8ddc-bd22055670d7",
        "colab": {
          "base_uri": "https://localhost:8080/",
          "height": 472
        }
      },
      "outputs": [
        {
          "output_type": "display_data",
          "data": {
            "text/plain": [
              "<Figure size 640x480 with 1 Axes>"
            ],
            "image/png": "[encoded data removed]"
          },
          "metadata": {}
        }
      ],
      "source": [
        "plt.plot(X_train,Y_train,'x')\n",
        "plt.title('Training data')\n",
        "plt.xlabel('Change in water level (X)')\n",
        "plt.ylabel('Water floeing out of the dam (Y)')\n",
        "plt.show()"
      ]
    },
    {
      "cell_type": "markdown",
      "metadata": {
        "id": "E65l6wKMVynl"
      },
      "source": [
        "Machine learning goes as far as deep learning. The limit is the single layer neural network. With this in mind, let's return to the punishment process introduced in lab L04, now using neural network packages."
      ]
    },
    {
      "cell_type": "markdown",
      "metadata": {
        "id": "LLgM8JUwVynm"
      },
      "source": [
        "### Linearized regression with regularization"
      ]
    },
    {
      "cell_type": "markdown",
      "metadata": {
        "id": "cZWSq28eVynm"
      },
      "source": [
        "We will create a network corresponding to a linear regression, which in our case will be based on 1 input variable and will consist of 1 layer containing 1 neuron. The BIAS tag will be added naturally and a penalty tag will be added. Two commonly used penalty methods are L1 and L2.\n",
        "\n",
        "#### L2 regularizáció (Ridge regression)\n",
        "$ C(w)=\\frac{1}{2m}\\sum_{i=1}^m(h_w(x^i)-y^i)^2+ \\color{red}{\\lambda\\sum_{j=1}^nw_j^2} $\n",
        "\n",
        "This technique can be used to prevent over fitting. $\\lambda $  should be choosen wisely. Setting it too high can result in under fitting.\n",
        "\n",
        "#### L1 regularisation (Lasso regression)\n",
        "$ C(w)=\\frac{1}{2m}\\sum_{i=1}^m(h_w(x^i)-y^i)^2+ \\color{red}{\\lambda\\sum_{j=1}^n|w_j|} $\n",
        "\n",
        "This technique can also reduce certain coefficients to 0, so it is useful for input parameter selection."
      ]
    },
    {
      "cell_type": "markdown",
      "metadata": {
        "id": "sVYZ0sakVynm"
      },
      "source": [
        "Vizsgáljuk meg az alábbi háló összeállítást."
      ]
    },
    {
      "cell_type": "code",
      "execution_count": 7,
      "metadata": {
        "id": "EhFeu2-IVynm",
        "outputId": "28e6ad94-c731-481f-a573-d554dbfdf7d3",
        "colab": {
          "base_uri": "https://localhost:8080/"
        }
      },
      "outputs": [
        {
          "output_type": "stream",
          "name": "stderr",
          "text": [
            "/usr/local/lib/python3.10/dist-packages/keras/src/layers/core/dense.py:87: UserWarning: Do not pass an `input_shape`/`input_dim` argument to a layer. When using Sequential models, prefer using an `Input(shape)` object as the first layer in the model instead.\n",
            "  super().__init__(activity_regularizer=activity_regularizer, **kwargs)\n"
          ]
        },
        {
          "output_type": "stream",
          "name": "stdout",
          "text": [
            "Epoch 1/100\n",
            "1/1 - 3s - 3s/step - loss: 497.7610 - val_loss: 544.3203\n",
            "Epoch 2/100\n",
            "1/1 - 0s - 297ms/step - loss: 492.7493 - val_loss: 539.1804\n",
            "Epoch 3/100\n",
            "1/1 - 0s - 281ms/step - loss: 487.7807 - val_loss: 534.0865\n",
            "Epoch 4/100\n",
            "1/1 - 0s - 227ms/step - loss: 482.8560 - val_loss: 529.0396\n",
            "Epoch 5/100\n",
            "1/1 - 0s - 172ms/step - loss: 477.9757 - val_loss: 524.0401\n",
            "Epoch 6/100\n",
            "1/1 - 0s - 383ms/step - loss: 473.1407 - val_loss: 519.0887\n",
            "Epoch 7/100\n",
            "1/1 - 0s - 219ms/step - loss: 468.3516 - val_loss: 514.1865\n",
            "Epoch 8/100\n",
            "1/1 - 0s - 199ms/step - loss: 463.6090 - val_loss: 509.3335\n",
            "Epoch 9/100\n",
            "1/1 - 0s - 111ms/step - loss: 458.9134 - val_loss: 504.5307\n",
            "Epoch 10/100\n",
            "1/1 - 0s - 193ms/step - loss: 454.2656 - val_loss: 499.7784\n",
            "Epoch 11/100\n",
            "1/1 - 0s - 124ms/step - loss: 449.6659 - val_loss: 495.0773\n",
            "Epoch 12/100\n",
            "1/1 - 0s - 267ms/step - loss: 445.1151 - val_loss: 490.4278\n",
            "Epoch 13/100\n",
            "1/1 - 0s - 189ms/step - loss: 440.6134 - val_loss: 485.8303\n",
            "Epoch 14/100\n",
            "1/1 - 0s - 124ms/step - loss: 436.1613 - val_loss: 481.2854\n",
            "Epoch 15/100\n",
            "1/1 - 0s - 358ms/step - loss: 431.7593 - val_loss: 476.7933\n",
            "Epoch 16/100\n",
            "1/1 - 0s - 472ms/step - loss: 427.4077 - val_loss: 472.3544\n",
            "Epoch 17/100\n",
            "1/1 - 1s - 513ms/step - loss: 423.1068 - val_loss: 467.9689\n",
            "Epoch 18/100\n",
            "1/1 - 0s - 346ms/step - loss: 418.8571 - val_loss: 463.6373\n",
            "Epoch 19/100\n",
            "1/1 - 1s - 573ms/step - loss: 414.6587 - val_loss: 459.3596\n",
            "Epoch 20/100\n",
            "1/1 - 0s - 307ms/step - loss: 410.5118 - val_loss: 455.1363\n",
            "Epoch 21/100\n",
            "1/1 - 0s - 428ms/step - loss: 406.4167 - val_loss: 450.9671\n",
            "Epoch 22/100\n",
            "1/1 - 1s - 602ms/step - loss: 402.3736 - val_loss: 446.8525\n",
            "Epoch 23/100\n",
            "1/1 - 0s - 290ms/step - loss: 398.3825 - val_loss: 442.7924\n",
            "Epoch 24/100\n",
            "1/1 - 0s - 165ms/step - loss: 394.4435 - val_loss: 438.7869\n",
            "Epoch 25/100\n",
            "1/1 - 0s - 129ms/step - loss: 390.5567 - val_loss: 434.8360\n",
            "Epoch 26/100\n",
            "1/1 - 0s - 139ms/step - loss: 386.7222 - val_loss: 430.9398\n",
            "Epoch 27/100\n",
            "1/1 - 0s - 131ms/step - loss: 382.9398 - val_loss: 427.0981\n",
            "Epoch 28/100\n",
            "1/1 - 0s - 95ms/step - loss: 379.2097 - val_loss: 423.3109\n",
            "Epoch 29/100\n",
            "1/1 - 0s - 126ms/step - loss: 375.5318 - val_loss: 419.5781\n",
            "Epoch 30/100\n",
            "1/1 - 0s - 123ms/step - loss: 371.9059 - val_loss: 415.8995\n",
            "Epoch 31/100\n",
            "1/1 - 0s - 65ms/step - loss: 368.3319 - val_loss: 412.2750\n",
            "Epoch 32/100\n",
            "1/1 - 0s - 58ms/step - loss: 364.8097 - val_loss: 408.7044\n",
            "Epoch 33/100\n",
            "1/1 - 0s - 65ms/step - loss: 361.3390 - val_loss: 405.1875\n",
            "Epoch 34/100\n",
            "1/1 - 0s - 55ms/step - loss: 357.9198 - val_loss: 401.7240\n",
            "Epoch 35/100\n",
            "1/1 - 0s - 54ms/step - loss: 354.5518 - val_loss: 398.3136\n",
            "Epoch 36/100\n",
            "1/1 - 0s - 60ms/step - loss: 351.2346 - val_loss: 394.9562\n",
            "Epoch 37/100\n",
            "1/1 - 0s - 58ms/step - loss: 347.9682 - val_loss: 391.6513\n",
            "Epoch 38/100\n",
            "1/1 - 0s - 53ms/step - loss: 344.7522 - val_loss: 388.3987\n",
            "Epoch 39/100\n",
            "1/1 - 0s - 63ms/step - loss: 341.5863 - val_loss: 385.1981\n",
            "Epoch 40/100\n",
            "1/1 - 0s - 56ms/step - loss: 338.4701 - val_loss: 382.0489\n",
            "Epoch 41/100\n",
            "1/1 - 0s - 53ms/step - loss: 335.4034 - val_loss: 378.9509\n",
            "Epoch 42/100\n",
            "1/1 - 0s - 141ms/step - loss: 332.3858 - val_loss: 375.9038\n",
            "Epoch 43/100\n",
            "1/1 - 0s - 56ms/step - loss: 329.4170 - val_loss: 372.9070\n",
            "Epoch 44/100\n",
            "1/1 - 0s - 55ms/step - loss: 326.4964 - val_loss: 369.9602\n",
            "Epoch 45/100\n",
            "1/1 - 0s - 51ms/step - loss: 323.6238 - val_loss: 367.0629\n",
            "Epoch 46/100\n",
            "1/1 - 0s - 55ms/step - loss: 320.7987 - val_loss: 364.2148\n",
            "Epoch 47/100\n",
            "1/1 - 0s - 140ms/step - loss: 318.0208 - val_loss: 361.4152\n",
            "Epoch 48/100\n",
            "1/1 - 0s - 56ms/step - loss: 315.2895 - val_loss: 358.6638\n",
            "Epoch 49/100\n",
            "1/1 - 0s - 62ms/step - loss: 312.6046 - val_loss: 355.9602\n",
            "Epoch 50/100\n",
            "1/1 - 0s - 134ms/step - loss: 309.9654 - val_loss: 353.3038\n",
            "Epoch 51/100\n",
            "1/1 - 0s - 53ms/step - loss: 307.3716 - val_loss: 350.6941\n",
            "Epoch 52/100\n",
            "1/1 - 0s - 56ms/step - loss: 304.8228 - val_loss: 348.1306\n",
            "Epoch 53/100\n",
            "1/1 - 0s - 53ms/step - loss: 302.3183 - val_loss: 345.6129\n",
            "Epoch 54/100\n",
            "1/1 - 0s - 70ms/step - loss: 299.8579 - val_loss: 343.1404\n",
            "Epoch 55/100\n",
            "1/1 - 0s - 72ms/step - loss: 297.4408 - val_loss: 340.7126\n",
            "Epoch 56/100\n",
            "1/1 - 0s - 67ms/step - loss: 295.0669 - val_loss: 338.3290\n",
            "Epoch 57/100\n",
            "1/1 - 0s - 60ms/step - loss: 292.7354 - val_loss: 335.9892\n",
            "Epoch 58/100\n",
            "1/1 - 0s - 55ms/step - loss: 290.4460 - val_loss: 333.6924\n",
            "Epoch 59/100\n",
            "1/1 - 0s - 56ms/step - loss: 288.1981 - val_loss: 331.4384\n",
            "Epoch 60/100\n",
            "1/1 - 0s - 72ms/step - loss: 285.9912 - val_loss: 329.2264\n",
            "Epoch 61/100\n",
            "1/1 - 0s - 52ms/step - loss: 283.8248 - val_loss: 327.0560\n",
            "Epoch 62/100\n",
            "1/1 - 0s - 58ms/step - loss: 281.6985 - val_loss: 324.9267\n",
            "Epoch 63/100\n",
            "1/1 - 0s - 46ms/step - loss: 279.6117 - val_loss: 322.8378\n",
            "Epoch 64/100\n",
            "1/1 - 0s - 50ms/step - loss: 277.5639 - val_loss: 320.7890\n",
            "Epoch 65/100\n",
            "1/1 - 0s - 57ms/step - loss: 275.5546 - val_loss: 318.7796\n",
            "Epoch 66/100\n",
            "1/1 - 0s - 58ms/step - loss: 273.5833 - val_loss: 316.8091\n",
            "Epoch 67/100\n",
            "1/1 - 0s - 46ms/step - loss: 271.6495 - val_loss: 314.8769\n",
            "Epoch 68/100\n",
            "1/1 - 0s - 48ms/step - loss: 269.7527 - val_loss: 312.9826\n",
            "Epoch 69/100\n",
            "1/1 - 0s - 52ms/step - loss: 267.8924 - val_loss: 311.1255\n",
            "Epoch 70/100\n",
            "1/1 - 0s - 65ms/step - loss: 266.0680 - val_loss: 309.3053\n",
            "Epoch 71/100\n",
            "1/1 - 0s - 131ms/step - loss: 264.2791 - val_loss: 307.5212\n",
            "Epoch 72/100\n",
            "1/1 - 0s - 60ms/step - loss: 262.5251 - val_loss: 305.7729\n",
            "Epoch 73/100\n",
            "1/1 - 0s - 43ms/step - loss: 260.8057 - val_loss: 304.0597\n",
            "Epoch 74/100\n",
            "1/1 - 0s - 43ms/step - loss: 259.1201 - val_loss: 302.3812\n",
            "Epoch 75/100\n",
            "1/1 - 0s - 50ms/step - loss: 257.4680 - val_loss: 300.7368\n",
            "Epoch 76/100\n",
            "1/1 - 0s - 44ms/step - loss: 255.8488 - val_loss: 299.1259\n",
            "Epoch 77/100\n",
            "1/1 - 0s - 61ms/step - loss: 254.2621 - val_loss: 297.5481\n",
            "Epoch 78/100\n",
            "1/1 - 0s - 49ms/step - loss: 252.7073 - val_loss: 296.0028\n",
            "Epoch 79/100\n",
            "1/1 - 0s - 53ms/step - loss: 251.1840 - val_loss: 294.4896\n",
            "Epoch 80/100\n",
            "1/1 - 0s - 48ms/step - loss: 249.6916 - val_loss: 293.0079\n",
            "Epoch 81/100\n",
            "1/1 - 0s - 47ms/step - loss: 248.2297 - val_loss: 291.5571\n",
            "Epoch 82/100\n",
            "1/1 - 0s - 58ms/step - loss: 246.7977 - val_loss: 290.1369\n",
            "Epoch 83/100\n",
            "1/1 - 0s - 44ms/step - loss: 245.3953 - val_loss: 288.7465\n",
            "Epoch 84/100\n",
            "1/1 - 0s - 59ms/step - loss: 244.0219 - val_loss: 287.3857\n",
            "Epoch 85/100\n",
            "1/1 - 0s - 45ms/step - loss: 242.6770 - val_loss: 286.0539\n",
            "Epoch 86/100\n",
            "1/1 - 0s - 46ms/step - loss: 241.3602 - val_loss: 284.7505\n",
            "Epoch 87/100\n",
            "1/1 - 0s - 57ms/step - loss: 240.0710 - val_loss: 283.4751\n",
            "Epoch 88/100\n",
            "1/1 - 0s - 55ms/step - loss: 238.8088 - val_loss: 282.2272\n",
            "Epoch 89/100\n",
            "1/1 - 0s - 57ms/step - loss: 237.5734 - val_loss: 281.0063\n",
            "Epoch 90/100\n",
            "1/1 - 0s - 54ms/step - loss: 236.3641 - val_loss: 279.8119\n",
            "Epoch 91/100\n",
            "1/1 - 0s - 45ms/step - loss: 235.1805 - val_loss: 278.6436\n",
            "Epoch 92/100\n",
            "1/1 - 0s - 48ms/step - loss: 234.0223 - val_loss: 277.5008\n",
            "Epoch 93/100\n",
            "1/1 - 0s - 48ms/step - loss: 232.8889 - val_loss: 276.3831\n",
            "Epoch 94/100\n",
            "1/1 - 0s - 57ms/step - loss: 231.7798 - val_loss: 275.2901\n",
            "Epoch 95/100\n",
            "1/1 - 0s - 71ms/step - loss: 230.6947 - val_loss: 274.2213\n",
            "Epoch 96/100\n",
            "1/1 - 0s - 52ms/step - loss: 229.6331 - val_loss: 273.1762\n",
            "Epoch 97/100\n",
            "1/1 - 0s - 48ms/step - loss: 228.5946 - val_loss: 272.1544\n",
            "Epoch 98/100\n",
            "1/1 - 0s - 64ms/step - loss: 227.5787 - val_loss: 271.1553\n",
            "Epoch 99/100\n",
            "1/1 - 0s - 55ms/step - loss: 226.5849 - val_loss: 270.1786\n",
            "Epoch 100/100\n",
            "1/1 - 0s - 60ms/step - loss: 225.6130 - val_loss: 269.2239\n"
          ]
        }
      ],
      "source": [
        "# Underfit Case\n",
        "Lambda = 0\n",
        "lr_rate = 0.005\n",
        "epoch = 100\n",
        "\n",
        "# building a linear stack of layers with the sequential model\n",
        "model = Sequential()\n",
        "model.add(Dense(1, input_shape=(1,), use_bias=True, kernel_regularizer=regularizers.l2(Lambda)))\n",
        "\n",
        "# compiling the sequential model\n",
        "sgd = optimizers.Adam(learning_rate=lr_rate)\n",
        "model.compile(loss='MSE', optimizer=sgd)\n",
        "\n",
        "# training the model and saving metrics in history\n",
        "history = model.fit(X_train, Y_train, epochs=epoch, validation_data=(X_val, Y_val), verbose = 2)"
      ]
    },
    {
      "cell_type": "markdown",
      "metadata": {
        "id": "MNBBspp5Vynm"
      },
      "source": [
        "Let's do the prediction."
      ]
    },
    {
      "cell_type": "code",
      "execution_count": 8,
      "metadata": {
        "id": "u4kTaR0zVynm",
        "outputId": "c7a7a82a-0caf-4c96-ae2c-991c1d9a3cc0",
        "colab": {
          "base_uri": "https://localhost:8080/"
        }
      },
      "outputs": [
        {
          "output_type": "stream",
          "name": "stdout",
          "text": [
            "\u001b[1m1/1\u001b[0m \u001b[32m━━━━━━━━━━━━━━━━━━━━\u001b[0m\u001b[37m\u001b[0m \u001b[1m0s\u001b[0m 69ms/step\n"
          ]
        }
      ],
      "source": [
        "################### CODE HERE ########################\n",
        "# Implement the prediction step.\n",
        "# Use the predict() function of the model\n",
        "Y_pred = model.predict(X_test)\n",
        "######################################################"
      ]
    },
    {
      "cell_type": "markdown",
      "metadata": {
        "id": "Uf4274ZcVynn"
      },
      "source": [
        "Plot the result."
      ]
    },
    {
      "cell_type": "code",
      "execution_count": 9,
      "metadata": {
        "id": "x0YWkAFqVynn",
        "outputId": "110ff14f-016b-4a48-89f0-608ce4ca94ea",
        "colab": {
          "base_uri": "https://localhost:8080/",
          "height": 472
        }
      },
      "outputs": [
        {
          "output_type": "display_data",
          "data": {
            "text/plain": [
              "<Figure size 640x480 with 1 Axes>"
            ],
            "image/png": "[encoded data removed]"
          },
          "metadata": {}
        }
      ],
      "source": [
        "plt.plot(X_train,Y_train,'x')   # adatok megjelenítése\n",
        "plt.plot(X_test,Y_pred,'x', color='red')   # adatok megjelenítése\n",
        "plt.title('Training data')\n",
        "plt.xlabel('Change in water level (X)')\n",
        "plt.ylabel('Water floeing out of the dam (Y)')\n",
        "plt.legend(['Training data', 'Prediction (on Test data)'])\n",
        "plt.show()"
      ]
    },
    {
      "cell_type": "markdown",
      "metadata": {
        "id": "hHByrAUrVynn"
      },
      "source": [
        "In line with our expectations and our simple model design, we obtained a linear estimate that does not seem to adequately capture our data. Using the built-in metrics, we can examine the running of the cost function on the training and validation data. To do this, we first plot the corresponding metrics."
      ]
    },
    {
      "cell_type": "code",
      "execution_count": 10,
      "metadata": {
        "id": "8Tww_XpJVynn",
        "outputId": "26df0613-34f3-44be-c0ad-7edc2625b49d",
        "colab": {
          "base_uri": "https://localhost:8080/",
          "height": 490
        }
      },
      "outputs": [
        {
          "output_type": "execute_result",
          "data": {
            "text/plain": [
              "<matplotlib.legend.Legend at 0x7a4c00cafd60>"
            ]
          },
          "metadata": {},
          "execution_count": 10
        },
        {
          "output_type": "display_data",
          "data": {
            "text/plain": [
              "<Figure size 640x480 with 1 Axes>"
            ],
            "image/png": "[encoded data removed]"
          },
          "metadata": {}
        }
      ],
      "source": [
        "# plotting the metrics\n",
        "fig = plt.figure()\n",
        "plt.plot(history.history['loss'])\n",
        "plt.plot(history.history['val_loss'])\n",
        "plt.title('Loss functions')\n",
        "plt.ylabel('loss')\n",
        "plt.xlabel('epoch')\n",
        "plt.legend(['Training loss', 'Validation loss'])"
      ]
    },
    {
      "cell_type": "markdown",
      "metadata": {
        "id": "yDqjUJQPVynn"
      },
      "source": [
        "In the graph, we can observe that both the cost function of the training data and the cost function of the validation data remain high. Higher than one would expect from a well-functioning predictor.\n",
        "\n",
        "<img src=\"https://github.com/Fortuz/edu_Adaptive/blob/main/practices/assets/Lab08/Pics/L08_HighBias.png?raw=1\" width=\"600\">"
      ]
    },
    {
      "cell_type": "markdown",
      "metadata": {
        "id": "ed977FqyVynn"
      },
      "source": [
        "So let's change our model to get a better result."
      ]
    },
    {
      "cell_type": "markdown",
      "metadata": {
        "id": "iDDUaBN8Vyno"
      },
      "source": [
        "### 4: Poly Feature"
      ]
    },
    {
      "cell_type": "markdown",
      "metadata": {
        "id": "J3TcXQ6MVyno"
      },
      "source": [
        "To get a better result, we need more input parameters. One possible way to generate more parameters is to take the polynomial coefficients of the available parameter and feed them into your neural network as additional parameters.\n",
        "\n",
        "Write a function that takes as input the matrix of actual samples and enriches it with the appropriate columns up to the desired exponent. $x => x, x^2, x^3 ... x^p$"
      ]
    },
    {
      "cell_type": "code",
      "execution_count": 11,
      "metadata": {
        "id": "WVT2mImAVyno"
      },
      "outputs": [],
      "source": [
        "def polyFeatures(X,p=9):\n",
        "    ################### CODE HERE ########################\n",
        "    # Implement the feature extension for the input data\n",
        "\n",
        "\n",
        "    m=X.shape[0]\n",
        "    X_poly = np.zeros((m,p))\n",
        "    for i in range(1,m+1):\n",
        "      for j in range(1,p+1):\n",
        "        X_poly[i-1,j-1] = X[i-1]**j\n",
        "\n",
        "\n",
        "\n",
        "    ######################################################\n",
        "    return X_poly"
      ]
    },
    {
      "cell_type": "markdown",
      "metadata": {
        "id": "bmnEqNcNVyno"
      },
      "source": [
        "Do not forget to lower the values, otherwise the high exponent members would distort the learning very much. Write a normalization function that takes a sample matrix as input and returns the means and variances as a vector in addition to the normalized matrix."
      ]
    },
    {
      "cell_type": "code",
      "execution_count": 12,
      "metadata": {
        "id": "95XLGJ32Vynp"
      },
      "outputs": [],
      "source": [
        "def featureNormalize(X):\n",
        "    ################### CODE HERE ########################\n",
        "    # Normalize the features of the input data.\n",
        "    # Each features has different normalization values.\n",
        "\n",
        "    avg = np.mean(X, axis = 0)\n",
        "    X_norm = X-avg\n",
        "    std = np.std(X_norm, axis = 0,ddof = 1)\n",
        "    X_norm = X_norm/std\n",
        "\n",
        "\n",
        "\n",
        "\n",
        "\n",
        "    ######################################################\n",
        "    return X_norm,avg,std"
      ]
    },
    {
      "cell_type": "markdown",
      "metadata": {
        "id": "IPLep5V7Vynp"
      },
      "source": [
        "Perform both the polynomial variable enrichment and the normalization.\n",
        "\n",
        "$\\color{red}{Warning!}$\n",
        "\n",
        "You should be aware of that during training you only want to use information from the training data set. This means that we should also normalise the test and validation data using the mean and standard deviation calculated from the training data. Otherwise, we would leak data back to the algorithm that could distort the learning result. The validation and test datasets thus remain truly independent and the algorithm can only work with the information obtained from the training data."
      ]
    },
    {
      "cell_type": "code",
      "execution_count": 13,
      "metadata": {
        "id": "7BFZVZn-Vynp",
        "outputId": "2c23c6fd-c1e0-43ad-d887-8618ce91ca0c",
        "colab": {
          "base_uri": "https://localhost:8080/"
        }
      },
      "outputs": [
        {
          "output_type": "stream",
          "name": "stdout",
          "text": [
            "Expected Normalized Training Example for order=3 (approx.):\n",
            "[-0.362 -0.755  0.182 ]\n",
            "Normalized Training Example 1:\n",
            " [-0.36214078 -0.75508669  0.18222588 -0.70618991  0.30661792 -0.59087767\n",
            "  0.3445158  -0.50848117  0.35954927]\n"
          ]
        },
        {
          "output_type": "stream",
          "name": "stderr",
          "text": [
            "<ipython-input-11-ddf0a7fec4f6>:10: DeprecationWarning: Conversion of an array with ndim > 0 to a scalar is deprecated, and will error in future. Ensure you extract a single element from your array before performing this operation. (Deprecated NumPy 1.25.)\n",
            "  X_poly[i-1,j-1] = X[i-1]**j\n"
          ]
        }
      ],
      "source": [
        "order=9\n",
        "\n",
        "# Training data\n",
        "X_train_p = polyFeatures(X_train, order)                                # polynomial features\n",
        "X_train_pn, mu, sigma = featureNormalize(X_train_p)                     # feature normalization\n",
        "\n",
        "################### CODE HERE ########################\n",
        "# Perform the feature extension and normalization for the remaining data sets as well\n",
        "\n",
        "# Validation data\n",
        "X_val_p = polyFeatures(X_val, order)\n",
        "X_val_pn = (X_val_p-mu)/sigma\n",
        "# Teszt data\n",
        "X_test_p = polyFeatures(X_test, order)\n",
        "X_test_pn = (X_test_p-mu)/sigma\n",
        "\n",
        "\n",
        "######################################################\n",
        "\n",
        "print(\"\"\"Expected Normalized Training Example for order=3 (approx.):\n",
        "[-0.362 -0.755  0.182 ]\"\"\")\n",
        "print('Normalized Training Example 1:\\n',X_train_pn[0,:])"
      ]
    },
    {
      "cell_type": "markdown",
      "metadata": {
        "id": "PgCOntMpVynq"
      },
      "source": [
        "Set the parameters."
      ]
    },
    {
      "cell_type": "code",
      "execution_count": 15,
      "metadata": {
        "id": "-EwgPvpQVynq"
      },
      "outputs": [],
      "source": [
        "# Just Right Case\n",
        "Lambda = 0\n",
        "lr_rate = 0.01\n",
        "epoch = 100\n",
        "optim = optimizers.SGD(learning_rate=lr_rate)"
      ]
    },
    {
      "cell_type": "markdown",
      "metadata": {
        "id": "v-ZDwQkVVynq"
      },
      "source": [
        "Since we have increased the number of variables, we need to modify our model. The input layer should fit the size of our increased input matrix, but we still only want one output."
      ]
    },
    {
      "cell_type": "code",
      "execution_count": 16,
      "metadata": {
        "id": "HJHLN2YWVynr",
        "outputId": "c2640838-c498-453e-e81f-00ab68c11d67",
        "colab": {
          "base_uri": "https://localhost:8080/"
        }
      },
      "outputs": [
        {
          "output_type": "stream",
          "name": "stderr",
          "text": [
            "/usr/local/lib/python3.10/dist-packages/keras/src/layers/core/dense.py:87: UserWarning: Do not pass an `input_shape`/`input_dim` argument to a layer. When using Sequential models, prefer using an `Input(shape)` object as the first layer in the model instead.\n",
            "  super().__init__(activity_regularizer=activity_regularizer, **kwargs)\n"
          ]
        }
      ],
      "source": [
        "# Building a linear stack of layers with the sequential model\n",
        "model2 = Sequential()\n",
        "\n",
        "################### CODE HERE ########################\n",
        "# Build a 2 layer Neural Network matching the input shape of the data and producing 1 output.\n",
        "# Use BIAS and L2 regularization.\n",
        "model2.add(Dense(order, input_shape=(order,), use_bias=True, kernel_regularizer=regularizers.l2(Lambda)))\n",
        "model2.add(Dense(1))\n",
        "\n",
        "\n",
        "\n",
        "\n",
        "######################################################"
      ]
    },
    {
      "cell_type": "markdown",
      "metadata": {
        "id": "UgXZxMqfVynr"
      },
      "source": [
        "After the architecture of the model is established, the model is compiled and the cost function and the optimizer are defined. Again, there are several options to choose from, such as SGD or ADAM."
      ]
    },
    {
      "cell_type": "code",
      "execution_count": 18,
      "metadata": {
        "id": "gV6JYlHNVynr",
        "outputId": "506237c9-82b0-479b-b199-6c006bfbb822",
        "colab": {
          "base_uri": "https://localhost:8080/"
        }
      },
      "outputs": [
        {
          "output_type": "stream",
          "name": "stdout",
          "text": [
            "Epoch 1/100\n",
            "1/1 - 1s - 1s/step - loss: 270.6433 - val_loss: 322.7166\n",
            "Epoch 2/100\n",
            "1/1 - 0s - 60ms/step - loss: 266.9004 - val_loss: 317.3693\n",
            "Epoch 3/100\n",
            "1/1 - 0s - 54ms/step - loss: 263.1525 - val_loss: 311.9657\n",
            "Epoch 4/100\n",
            "1/1 - 0s - 51ms/step - loss: 259.4001 - val_loss: 306.4426\n",
            "Epoch 5/100\n",
            "1/1 - 0s - 56ms/step - loss: 255.6401 - val_loss: 300.7747\n",
            "Epoch 6/100\n",
            "1/1 - 0s - 57ms/step - loss: 251.8678 - val_loss: 294.9935\n",
            "Epoch 7/100\n",
            "1/1 - 0s - 60ms/step - loss: 248.0795 - val_loss: 289.1331\n",
            "Epoch 8/100\n",
            "1/1 - 0s - 66ms/step - loss: 244.2726 - val_loss: 283.2140\n",
            "Epoch 9/100\n",
            "1/1 - 0s - 53ms/step - loss: 240.4443 - val_loss: 277.2455\n",
            "Epoch 10/100\n",
            "1/1 - 0s - 60ms/step - loss: 236.5908 - val_loss: 271.2305\n",
            "Epoch 11/100\n",
            "1/1 - 0s - 71ms/step - loss: 232.7077 - val_loss: 265.1682\n",
            "Epoch 12/100\n",
            "1/1 - 0s - 132ms/step - loss: 228.7899 - val_loss: 259.0560\n",
            "Epoch 13/100\n",
            "1/1 - 0s - 59ms/step - loss: 224.8320 - val_loss: 252.8908\n",
            "Epoch 14/100\n",
            "1/1 - 0s - 56ms/step - loss: 220.8287 - val_loss: 246.6704\n",
            "Epoch 15/100\n",
            "1/1 - 0s - 52ms/step - loss: 216.7755 - val_loss: 240.3947\n",
            "Epoch 16/100\n",
            "1/1 - 0s - 137ms/step - loss: 212.6688 - val_loss: 234.0653\n",
            "Epoch 17/100\n",
            "1/1 - 0s - 56ms/step - loss: 208.5064 - val_loss: 227.6866\n",
            "Epoch 18/100\n",
            "1/1 - 0s - 57ms/step - loss: 204.2874 - val_loss: 221.2646\n",
            "Epoch 19/100\n",
            "1/1 - 0s - 57ms/step - loss: 200.0119 - val_loss: 214.8073\n",
            "Epoch 20/100\n",
            "1/1 - 0s - 59ms/step - loss: 195.6810 - val_loss: 208.3240\n",
            "Epoch 21/100\n",
            "1/1 - 0s - 141ms/step - loss: 191.2966 - val_loss: 201.8250\n",
            "Epoch 22/100\n",
            "1/1 - 0s - 57ms/step - loss: 186.8610 - val_loss: 195.3217\n",
            "Epoch 23/100\n",
            "1/1 - 0s - 53ms/step - loss: 182.3772 - val_loss: 188.8262\n",
            "Epoch 24/100\n",
            "1/1 - 0s - 62ms/step - loss: 177.8485 - val_loss: 182.3520\n",
            "Epoch 25/100\n",
            "1/1 - 0s - 63ms/step - loss: 173.2786 - val_loss: 175.9132\n",
            "Epoch 26/100\n",
            "1/1 - 0s - 59ms/step - loss: 168.6718 - val_loss: 169.5251\n",
            "Epoch 27/100\n",
            "1/1 - 0s - 56ms/step - loss: 164.0326 - val_loss: 163.2043\n",
            "Epoch 28/100\n",
            "1/1 - 0s - 53ms/step - loss: 159.3663 - val_loss: 156.9682\n",
            "Epoch 29/100\n",
            "1/1 - 0s - 65ms/step - loss: 154.6785 - val_loss: 150.8357\n",
            "Epoch 30/100\n",
            "1/1 - 0s - 69ms/step - loss: 149.9756 - val_loss: 144.8263\n",
            "Epoch 31/100\n",
            "1/1 - 0s - 58ms/step - loss: 145.2645 - val_loss: 138.9610\n",
            "Epoch 32/100\n",
            "1/1 - 0s - 63ms/step - loss: 140.5528 - val_loss: 133.2612\n",
            "Epoch 33/100\n",
            "1/1 - 0s - 61ms/step - loss: 135.8488 - val_loss: 127.7494\n",
            "Epoch 34/100\n",
            "1/1 - 0s - 58ms/step - loss: 131.1613 - val_loss: 122.4484\n",
            "Epoch 35/100\n",
            "1/1 - 0s - 67ms/step - loss: 126.4998 - val_loss: 117.3814\n",
            "Epoch 36/100\n",
            "1/1 - 0s - 129ms/step - loss: 121.8741 - val_loss: 112.5716\n",
            "Epoch 37/100\n",
            "1/1 - 0s - 58ms/step - loss: 117.2946 - val_loss: 108.0422\n",
            "Epoch 38/100\n",
            "1/1 - 0s - 51ms/step - loss: 112.7720 - val_loss: 103.8156\n",
            "Epoch 39/100\n",
            "1/1 - 0s - 53ms/step - loss: 108.3173 - val_loss: 99.9138\n",
            "Epoch 40/100\n",
            "1/1 - 0s - 50ms/step - loss: 103.9417 - val_loss: 96.3575\n",
            "Epoch 41/100\n",
            "1/1 - 0s - 60ms/step - loss: 99.6563 - val_loss: 93.1660\n",
            "Epoch 42/100\n",
            "1/1 - 0s - 53ms/step - loss: 95.4724 - val_loss: 90.3565\n",
            "Epoch 43/100\n",
            "1/1 - 0s - 56ms/step - loss: 91.4006 - val_loss: 87.9439\n",
            "Epoch 44/100\n",
            "1/1 - 0s - 52ms/step - loss: 87.4514 - val_loss: 85.9399\n",
            "Epoch 45/100\n",
            "1/1 - 0s - 138ms/step - loss: 83.6344 - val_loss: 84.3530\n",
            "Epoch 46/100\n",
            "1/1 - 0s - 61ms/step - loss: 79.9584 - val_loss: 83.1871\n",
            "Epoch 47/100\n",
            "1/1 - 0s - 163ms/step - loss: 76.4313 - val_loss: 82.4417\n",
            "Epoch 48/100\n",
            "1/1 - 0s - 123ms/step - loss: 73.0592 - val_loss: 82.1108\n",
            "Epoch 49/100\n",
            "1/1 - 0s - 56ms/step - loss: 69.8472 - val_loss: 82.1825\n",
            "Epoch 50/100\n",
            "1/1 - 0s - 58ms/step - loss: 66.7984 - val_loss: 82.6387\n",
            "Epoch 51/100\n",
            "1/1 - 0s - 57ms/step - loss: 63.9144 - val_loss: 83.4548\n",
            "Epoch 52/100\n",
            "1/1 - 0s - 54ms/step - loss: 61.1947 - val_loss: 84.5995\n",
            "Epoch 53/100\n",
            "1/1 - 0s - 63ms/step - loss: 58.6375 - val_loss: 86.0357\n",
            "Epoch 54/100\n",
            "1/1 - 0s - 54ms/step - loss: 56.2388 - val_loss: 87.7196\n",
            "Epoch 55/100\n",
            "1/1 - 0s - 60ms/step - loss: 53.9933 - val_loss: 89.6026\n",
            "Epoch 56/100\n",
            "1/1 - 0s - 58ms/step - loss: 51.8943 - val_loss: 91.6313\n",
            "Epoch 57/100\n",
            "1/1 - 0s - 69ms/step - loss: 49.9336 - val_loss: 93.7487\n",
            "Epoch 58/100\n",
            "1/1 - 0s - 124ms/step - loss: 48.1015 - val_loss: 95.8959\n",
            "Epoch 59/100\n",
            "1/1 - 0s - 54ms/step - loss: 46.3877 - val_loss: 98.0128\n",
            "Epoch 60/100\n",
            "1/1 - 0s - 60ms/step - loss: 44.7805 - val_loss: 100.0405\n",
            "Epoch 61/100\n",
            "1/1 - 0s - 71ms/step - loss: 43.2675 - val_loss: 101.9227\n",
            "Epoch 62/100\n",
            "1/1 - 0s - 67ms/step - loss: 41.8361 - val_loss: 103.6077\n",
            "Epoch 63/100\n",
            "1/1 - 0s - 56ms/step - loss: 40.4736 - val_loss: 105.0502\n",
            "Epoch 64/100\n",
            "1/1 - 0s - 57ms/step - loss: 39.1679 - val_loss: 106.2123\n",
            "Epoch 65/100\n",
            "1/1 - 0s - 54ms/step - loss: 37.9077 - val_loss: 107.0644\n",
            "Epoch 66/100\n",
            "1/1 - 0s - 53ms/step - loss: 36.6833 - val_loss: 107.5856\n",
            "Epoch 67/100\n",
            "1/1 - 0s - 85ms/step - loss: 35.4863 - val_loss: 107.7636\n",
            "Epoch 68/100\n",
            "1/1 - 0s - 54ms/step - loss: 34.3100 - val_loss: 107.5941\n",
            "Epoch 69/100\n",
            "1/1 - 0s - 57ms/step - loss: 33.1493 - val_loss: 107.0804\n",
            "Epoch 70/100\n",
            "1/1 - 0s - 55ms/step - loss: 32.0007 - val_loss: 106.2323\n",
            "Epoch 71/100\n",
            "1/1 - 0s - 58ms/step - loss: 30.8621 - val_loss: 105.0656\n",
            "Epoch 72/100\n",
            "1/1 - 0s - 138ms/step - loss: 29.7325 - val_loss: 103.6009\n",
            "Epoch 73/100\n",
            "1/1 - 0s - 52ms/step - loss: 28.6121 - val_loss: 101.8628\n",
            "Epoch 74/100\n",
            "1/1 - 0s - 67ms/step - loss: 27.5019 - val_loss: 99.8788\n",
            "Epoch 75/100\n",
            "1/1 - 0s - 123ms/step - loss: 26.4037 - val_loss: 97.6789\n",
            "Epoch 76/100\n",
            "1/1 - 0s - 63ms/step - loss: 25.3200 - val_loss: 95.2940\n",
            "Epoch 77/100\n",
            "1/1 - 0s - 48ms/step - loss: 24.2536 - val_loss: 92.7556\n",
            "Epoch 78/100\n",
            "1/1 - 0s - 53ms/step - loss: 23.2075 - val_loss: 90.0948\n",
            "Epoch 79/100\n",
            "1/1 - 0s - 50ms/step - loss: 22.1851 - val_loss: 87.3419\n",
            "Epoch 80/100\n",
            "1/1 - 0s - 59ms/step - loss: 21.1892 - val_loss: 84.5257\n",
            "Epoch 81/100\n",
            "1/1 - 0s - 53ms/step - loss: 20.2227 - val_loss: 81.6731\n",
            "Epoch 82/100\n",
            "1/1 - 0s - 58ms/step - loss: 19.2879 - val_loss: 78.8091\n",
            "Epoch 83/100\n",
            "1/1 - 0s - 49ms/step - loss: 18.3868 - val_loss: 75.9563\n",
            "Epoch 84/100\n",
            "1/1 - 0s - 48ms/step - loss: 17.5212 - val_loss: 73.1352\n",
            "Epoch 85/100\n",
            "1/1 - 0s - 48ms/step - loss: 16.6921 - val_loss: 70.3638\n",
            "Epoch 86/100\n",
            "1/1 - 0s - 51ms/step - loss: 15.9003 - val_loss: 67.6578\n",
            "Epoch 87/100\n",
            "1/1 - 0s - 58ms/step - loss: 15.1463 - val_loss: 65.0306\n",
            "Epoch 88/100\n",
            "1/1 - 0s - 59ms/step - loss: 14.4302 - val_loss: 62.4934\n",
            "Epoch 89/100\n",
            "1/1 - 0s - 57ms/step - loss: 13.7516 - val_loss: 60.0552\n",
            "Epoch 90/100\n",
            "1/1 - 0s - 53ms/step - loss: 13.1101 - val_loss: 57.7230\n",
            "Epoch 91/100\n",
            "1/1 - 0s - 60ms/step - loss: 12.5048 - val_loss: 55.5018\n",
            "Epoch 92/100\n",
            "1/1 - 0s - 138ms/step - loss: 11.9348 - val_loss: 53.3950\n",
            "Epoch 93/100\n",
            "1/1 - 0s - 60ms/step - loss: 11.3987 - val_loss: 51.4044\n",
            "Epoch 94/100\n",
            "1/1 - 0s - 63ms/step - loss: 10.8952 - val_loss: 49.5303\n",
            "Epoch 95/100\n",
            "1/1 - 0s - 59ms/step - loss: 10.4230 - val_loss: 47.7718\n",
            "Epoch 96/100\n",
            "1/1 - 0s - 55ms/step - loss: 9.9806 - val_loss: 46.1272\n",
            "Epoch 97/100\n",
            "1/1 - 0s - 58ms/step - loss: 9.5666 - val_loss: 44.5937\n",
            "Epoch 98/100\n",
            "1/1 - 0s - 55ms/step - loss: 9.1795 - val_loss: 43.1678\n",
            "Epoch 99/100\n",
            "1/1 - 0s - 50ms/step - loss: 8.8181 - val_loss: 41.8454\n",
            "Epoch 100/100\n",
            "1/1 - 0s - 60ms/step - loss: 8.4808 - val_loss: 40.6221\n"
          ]
        }
      ],
      "source": [
        "# Compiling the sequential model\n",
        "# optim = optimizers.SGD(lr=lr_rate)\n",
        "optim = optimizers.Adam(learning_rate=lr_rate)\n",
        "model2.compile(loss='MSE', optimizer=optim)\n",
        "\n",
        "# Training the model and saving metrics in history\n",
        "history2 = model2.fit(X_train_pn, Y_train, epochs=epoch, validation_data=(X_val_pn, Y_val), verbose = 2)"
      ]
    },
    {
      "cell_type": "markdown",
      "metadata": {
        "id": "LMRhL7aLVynr"
      },
      "source": [
        "After training the model, we make this prediction on our test data."
      ]
    },
    {
      "cell_type": "code",
      "execution_count": 19,
      "metadata": {
        "id": "agKs_OgrVyns",
        "outputId": "c21ebebf-66c4-4dcf-bece-9189d01a98e5",
        "colab": {
          "base_uri": "https://localhost:8080/"
        }
      },
      "outputs": [
        {
          "output_type": "stream",
          "name": "stdout",
          "text": [
            "\u001b[1m1/1\u001b[0m \u001b[32m━━━━━━━━━━━━━━━━━━━━\u001b[0m\u001b[37m\u001b[0m \u001b[1m0s\u001b[0m 52ms/step\n"
          ]
        }
      ],
      "source": [
        "################### CODE HERE ########################\n",
        "# Calculate the predictions using the recently trained model.\n",
        "Y_pred2 = model2.predict(X_test_pn)\n",
        "\n",
        "\n",
        "\n",
        "######################################################"
      ]
    },
    {
      "cell_type": "markdown",
      "metadata": {
        "id": "iFJ_Mb2hVynz"
      },
      "source": [
        "Let's plot the result of the prediction."
      ]
    },
    {
      "cell_type": "code",
      "execution_count": 20,
      "metadata": {
        "id": "JcLPevLTVynz",
        "outputId": "245bea07-8659-4c1a-a2f4-173847a4a171",
        "colab": {
          "base_uri": "https://localhost:8080/",
          "height": 472
        }
      },
      "outputs": [
        {
          "output_type": "display_data",
          "data": {
            "text/plain": [
              "<Figure size 640x480 with 1 Axes>"
            ],
            "image/png": "[encoded data removed]"
          },
          "metadata": {}
        }
      ],
      "source": [
        "plt.plot(X_test,Y_pred2,'x', color=\"red\")\n",
        "plt.plot(X_test,Y_test,'x', color=\"green\")\n",
        "plt.title('Training data')\n",
        "plt.xlabel('Change in water level (X)')\n",
        "plt.ylabel('Water floeing out of the dam (Y)')\n",
        "plt.legend(['Prediction', 'Test'])\n",
        "plt.show()"
      ]
    },
    {
      "cell_type": "markdown",
      "metadata": {
        "id": "USlvT1v5Vynz"
      },
      "source": [
        "You can see that the extended model gives a much better result, which fits our data much better. The result is also reflected in the metrics."
      ]
    },
    {
      "cell_type": "code",
      "execution_count": 21,
      "metadata": {
        "id": "gAPpPj8_Vynz",
        "outputId": "51860836-9ca9-4fd0-baa6-12cf990ddbd3",
        "colab": {
          "base_uri": "https://localhost:8080/",
          "height": 490
        }
      },
      "outputs": [
        {
          "output_type": "execute_result",
          "data": {
            "text/plain": [
              "<matplotlib.legend.Legend at 0x7a4c00d11f60>"
            ]
          },
          "metadata": {},
          "execution_count": 21
        },
        {
          "output_type": "display_data",
          "data": {
            "text/plain": [
              "<Figure size 640x480 with 1 Axes>"
            ],
            "image/png": "[encoded data removed]"
          },
          "metadata": {}
        }
      ],
      "source": [
        "# plotting the metrics\n",
        "fig = plt.figure()\n",
        "plt.plot(history2.history['loss'])\n",
        "plt.plot(history2.history['val_loss'])\n",
        "plt.title('Loss functions')\n",
        "plt.ylabel('loss')\n",
        "plt.xlabel('epoch')\n",
        "plt.legend(['Train loss', 'Validation loss'])"
      ]
    },
    {
      "cell_type": "markdown",
      "metadata": {
        "id": "4BoSMXWQVynz"
      },
      "source": [
        "Both the cost function of our training data and the cost function of our validation data were significantly lower than in our first attempt.\n",
        "\n",
        "<img src=\"https://github.com/Fortuz/edu_Adaptive/blob/main/practices/assets/Lab08/Pics/L08_HighBias.png?raw=1\" width=\"600\">"
      ]
    },
    {
      "cell_type": "markdown",
      "metadata": {
        "id": "wwWpkaMoVynz"
      },
      "source": [
        "You can extend your model further and tune the hyperparameters, but be careful not to fall into the trap of over-learning, as in the model below.\n",
        "\n",
        "In our case, we chose too many input parameters and ran the learning that way."
      ]
    },
    {
      "cell_type": "code",
      "execution_count": 23,
      "metadata": {
        "id": "G6Y16JUQVyn0"
      },
      "outputs": [],
      "source": [
        "#Overfit\n",
        "Lambda = 0\n",
        "lr_rate = 0.001\n",
        "epoch = 100\n",
        "order=12\n",
        "optim = optimizers.Adam(learning_rate=lr_rate)"
      ]
    },
    {
      "cell_type": "code",
      "execution_count": 24,
      "metadata": {
        "id": "Wg05jtWPVyn0",
        "outputId": "5e2456c3-2b8f-4960-b6f3-8f85a2f4ae26",
        "colab": {
          "base_uri": "https://localhost:8080/"
        }
      },
      "outputs": [
        {
          "output_type": "stream",
          "name": "stderr",
          "text": [
            "<ipython-input-11-ddf0a7fec4f6>:10: DeprecationWarning: Conversion of an array with ndim > 0 to a scalar is deprecated, and will error in future. Ensure you extract a single element from your array before performing this operation. (Deprecated NumPy 1.25.)\n",
            "  X_poly[i-1,j-1] = X[i-1]**j\n"
          ]
        }
      ],
      "source": [
        "# Train\n",
        "X_train_p = polyFeatures(X_train, order)                                # polynomial features\n",
        "X_train_pn, mu, sigma = featureNormalize(X_train_p)                     # feature normalization\n",
        "\n",
        "# Validation\n",
        "X_val_p = polyFeatures(X_val, order)\n",
        "X_val_pn = (X_val_p-mu)/sigma\n",
        "\n",
        "# Teszt\n",
        "X_test_p = polyFeatures(X_test, order)\n",
        "X_test_pn = (X_test_p-mu)/sigma"
      ]
    },
    {
      "cell_type": "code",
      "execution_count": 25,
      "metadata": {
        "id": "_uJbirRLVyn0",
        "outputId": "fef4f374-b7f3-4bc7-91df-66f42098eb4d",
        "colab": {
          "base_uri": "https://localhost:8080/"
        }
      },
      "outputs": [
        {
          "output_type": "stream",
          "name": "stderr",
          "text": [
            "/usr/local/lib/python3.10/dist-packages/keras/src/layers/core/dense.py:87: UserWarning: Do not pass an `input_shape`/`input_dim` argument to a layer. When using Sequential models, prefer using an `Input(shape)` object as the first layer in the model instead.\n",
            "  super().__init__(activity_regularizer=activity_regularizer, **kwargs)\n"
          ]
        }
      ],
      "source": [
        "# Building a linear stack of layers with the sequential model\n",
        "model3 = Sequential()\n",
        "model3.add(Dense(order, input_shape=(order,), use_bias=True, kernel_regularizer=regularizers.l2(Lambda)))\n",
        "model3.add(Dense(1))"
      ]
    },
    {
      "cell_type": "code",
      "execution_count": 27,
      "metadata": {
        "id": "myBIt9N0Vyn0",
        "outputId": "f3a4764f-34ca-49db-a6be-31f3a9266d08",
        "colab": {
          "base_uri": "https://localhost:8080/"
        }
      },
      "outputs": [
        {
          "output_type": "stream",
          "name": "stdout",
          "text": [
            "Epoch 1/100\n",
            "1/1 - 0s - 399ms/step - loss: 303.8448 - val_loss: 346.9117\n",
            "Epoch 2/100\n",
            "1/1 - 0s - 151ms/step - loss: 297.3051 - val_loss: 339.9466\n",
            "Epoch 3/100\n",
            "1/1 - 0s - 47ms/step - loss: 291.3586 - val_loss: 333.5093\n",
            "Epoch 4/100\n",
            "1/1 - 0s - 46ms/step - loss: 285.8888 - val_loss: 327.4944\n",
            "Epoch 5/100\n",
            "1/1 - 0s - 48ms/step - loss: 280.8047 - val_loss: 321.8185\n",
            "Epoch 6/100\n",
            "1/1 - 0s - 50ms/step - loss: 276.0345 - val_loss: 316.4144\n",
            "Epoch 7/100\n",
            "1/1 - 0s - 56ms/step - loss: 271.5202 - val_loss: 311.2274\n",
            "Epoch 8/100\n",
            "1/1 - 0s - 47ms/step - loss: 267.2149 - val_loss: 306.2125\n",
            "Epoch 9/100\n",
            "1/1 - 0s - 57ms/step - loss: 263.0798 - val_loss: 301.3318\n",
            "Epoch 10/100\n",
            "1/1 - 0s - 60ms/step - loss: 259.0826 - val_loss: 296.5538\n",
            "Epoch 11/100\n",
            "1/1 - 0s - 47ms/step - loss: 255.1960 - val_loss: 291.8513\n",
            "Epoch 12/100\n",
            "1/1 - 0s - 58ms/step - loss: 251.3970 - val_loss: 287.2012\n",
            "Epoch 13/100\n",
            "1/1 - 0s - 46ms/step - loss: 247.6657 - val_loss: 282.5833\n",
            "Epoch 14/100\n",
            "1/1 - 0s - 47ms/step - loss: 243.9851 - val_loss: 277.9802\n",
            "Epoch 15/100\n",
            "1/1 - 0s - 61ms/step - loss: 240.3400 - val_loss: 273.3764\n",
            "Epoch 16/100\n",
            "1/1 - 0s - 79ms/step - loss: 236.7174 - val_loss: 268.7584\n",
            "Epoch 17/100\n",
            "1/1 - 0s - 50ms/step - loss: 233.1055 - val_loss: 264.1143\n",
            "Epoch 18/100\n",
            "1/1 - 0s - 49ms/step - loss: 229.4940 - val_loss: 259.4333\n",
            "Epoch 19/100\n",
            "1/1 - 0s - 84ms/step - loss: 225.8736 - val_loss: 254.7063\n",
            "Epoch 20/100\n",
            "1/1 - 0s - 121ms/step - loss: 222.2358 - val_loss: 249.9247\n",
            "Epoch 21/100\n",
            "1/1 - 0s - 128ms/step - loss: 218.5733 - val_loss: 245.0815\n",
            "Epoch 22/100\n",
            "1/1 - 0s - 64ms/step - loss: 214.8791 - val_loss: 240.1702\n",
            "Epoch 23/100\n",
            "1/1 - 0s - 60ms/step - loss: 211.1472 - val_loss: 235.1855\n",
            "Epoch 24/100\n",
            "1/1 - 0s - 57ms/step - loss: 207.3723 - val_loss: 230.1230\n",
            "Epoch 25/100\n",
            "1/1 - 0s - 55ms/step - loss: 203.5494 - val_loss: 224.9790\n",
            "Epoch 26/100\n",
            "1/1 - 0s - 58ms/step - loss: 199.6746 - val_loss: 219.7511\n",
            "Epoch 27/100\n",
            "1/1 - 0s - 54ms/step - loss: 195.7440 - val_loss: 214.4375\n",
            "Epoch 28/100\n",
            "1/1 - 0s - 59ms/step - loss: 191.7548 - val_loss: 209.0376\n",
            "Epoch 29/100\n",
            "1/1 - 0s - 57ms/step - loss: 187.7047 - val_loss: 203.5517\n",
            "Epoch 30/100\n",
            "1/1 - 0s - 52ms/step - loss: 183.5919 - val_loss: 197.9811\n",
            "Epoch 31/100\n",
            "1/1 - 0s - 59ms/step - loss: 179.4155 - val_loss: 192.3284\n",
            "Epoch 32/100\n",
            "1/1 - 0s - 53ms/step - loss: 175.1752 - val_loss: 186.5972\n",
            "Epoch 33/100\n",
            "1/1 - 0s - 148ms/step - loss: 170.8713 - val_loss: 180.7923\n",
            "Epoch 34/100\n",
            "1/1 - 0s - 60ms/step - loss: 166.5051 - val_loss: 174.9196\n",
            "Epoch 35/100\n",
            "1/1 - 0s - 55ms/step - loss: 162.0785 - val_loss: 168.9864\n",
            "Epoch 36/100\n",
            "1/1 - 0s - 64ms/step - loss: 157.5944 - val_loss: 163.0011\n",
            "Epoch 37/100\n",
            "1/1 - 0s - 57ms/step - loss: 153.0562 - val_loss: 156.9735\n",
            "Epoch 38/100\n",
            "1/1 - 0s - 60ms/step - loss: 148.4685 - val_loss: 150.9144\n",
            "Epoch 39/100\n",
            "1/1 - 0s - 57ms/step - loss: 143.8365 - val_loss: 144.8359\n",
            "Epoch 40/100\n",
            "1/1 - 0s - 56ms/step - loss: 139.1664 - val_loss: 138.7512\n",
            "Epoch 41/100\n",
            "1/1 - 0s - 53ms/step - loss: 134.4650 - val_loss: 132.6744\n",
            "Epoch 42/100\n",
            "1/1 - 0s - 64ms/step - loss: 129.7401 - val_loss: 126.6208\n",
            "Epoch 43/100\n",
            "1/1 - 0s - 56ms/step - loss: 125.0001 - val_loss: 120.6064\n",
            "Epoch 44/100\n",
            "1/1 - 0s - 58ms/step - loss: 120.2540 - val_loss: 114.6477\n",
            "Epoch 45/100\n",
            "1/1 - 0s - 57ms/step - loss: 115.5117 - val_loss: 108.7617\n",
            "Epoch 46/100\n",
            "1/1 - 0s - 54ms/step - loss: 110.7831 - val_loss: 102.9661\n",
            "Epoch 47/100\n",
            "1/1 - 0s - 64ms/step - loss: 106.0792 - val_loss: 97.2781\n",
            "Epoch 48/100\n",
            "1/1 - 0s - 140ms/step - loss: 101.4106 - val_loss: 91.7152\n",
            "Epoch 49/100\n",
            "1/1 - 0s - 69ms/step - loss: 96.7885 - val_loss: 86.2944\n",
            "Epoch 50/100\n",
            "1/1 - 0s - 58ms/step - loss: 92.2240 - val_loss: 81.0322\n",
            "Epoch 51/100\n",
            "1/1 - 0s - 57ms/step - loss: 87.7282 - val_loss: 75.9442\n",
            "Epoch 52/100\n",
            "1/1 - 0s - 51ms/step - loss: 83.3120 - val_loss: 71.0450\n",
            "Epoch 53/100\n",
            "1/1 - 0s - 62ms/step - loss: 78.9856 - val_loss: 66.3480\n",
            "Epoch 54/100\n",
            "1/1 - 0s - 60ms/step - loss: 74.7593 - val_loss: 61.8653\n",
            "Epoch 55/100\n",
            "1/1 - 0s - 55ms/step - loss: 70.6423 - val_loss: 57.6073\n",
            "Epoch 56/100\n",
            "1/1 - 0s - 60ms/step - loss: 66.6433 - val_loss: 53.5828\n",
            "Epoch 57/100\n",
            "1/1 - 0s - 58ms/step - loss: 62.7703 - val_loss: 49.7988\n",
            "Epoch 58/100\n",
            "1/1 - 0s - 69ms/step - loss: 59.0301 - val_loss: 46.2605\n",
            "Epoch 59/100\n",
            "1/1 - 0s - 52ms/step - loss: 55.4289 - val_loss: 42.9711\n",
            "Epoch 60/100\n",
            "1/1 - 0s - 51ms/step - loss: 51.9715 - val_loss: 39.9319\n",
            "Epoch 61/100\n",
            "1/1 - 0s - 52ms/step - loss: 48.6621 - val_loss: 37.1425\n",
            "Epoch 62/100\n",
            "1/1 - 0s - 71ms/step - loss: 45.5034 - val_loss: 34.6006\n",
            "Epoch 63/100\n",
            "1/1 - 0s - 76ms/step - loss: 42.4975 - val_loss: 32.3022\n",
            "Epoch 64/100\n",
            "1/1 - 0s - 62ms/step - loss: 39.6451 - val_loss: 30.2417\n",
            "Epoch 65/100\n",
            "1/1 - 0s - 58ms/step - loss: 36.9461 - val_loss: 28.4122\n",
            "Epoch 66/100\n",
            "1/1 - 0s - 53ms/step - loss: 34.3995 - val_loss: 26.8054\n",
            "Epoch 67/100\n",
            "1/1 - 0s - 58ms/step - loss: 32.0032 - val_loss: 25.4118\n",
            "Epoch 68/100\n",
            "1/1 - 0s - 60ms/step - loss: 29.7547 - val_loss: 24.2211\n",
            "Epoch 69/100\n",
            "1/1 - 0s - 52ms/step - loss: 27.6503 - val_loss: 23.2222\n",
            "Epoch 70/100\n",
            "1/1 - 0s - 50ms/step - loss: 25.6860 - val_loss: 22.4033\n",
            "Epoch 71/100\n",
            "1/1 - 0s - 60ms/step - loss: 23.8571 - val_loss: 21.7523\n",
            "Epoch 72/100\n",
            "1/1 - 0s - 57ms/step - loss: 22.1586 - val_loss: 21.2568\n",
            "Epoch 73/100\n",
            "1/1 - 0s - 61ms/step - loss: 20.5850 - val_loss: 20.9043\n",
            "Epoch 74/100\n",
            "1/1 - 0s - 60ms/step - loss: 19.1305 - val_loss: 20.6823\n",
            "Epoch 75/100\n",
            "1/1 - 0s - 51ms/step - loss: 17.7891 - val_loss: 20.5787\n",
            "Epoch 76/100\n",
            "1/1 - 0s - 59ms/step - loss: 16.5548 - val_loss: 20.5813\n",
            "Epoch 77/100\n",
            "1/1 - 0s - 63ms/step - loss: 15.4215 - val_loss: 20.6786\n",
            "Epoch 78/100\n",
            "1/1 - 0s - 148ms/step - loss: 14.3829 - val_loss: 20.8595\n",
            "Epoch 79/100\n",
            "1/1 - 0s - 56ms/step - loss: 13.4330 - val_loss: 21.1132\n",
            "Epoch 80/100\n",
            "1/1 - 0s - 51ms/step - loss: 12.5659 - val_loss: 21.4299\n",
            "Epoch 81/100\n",
            "1/1 - 0s - 49ms/step - loss: 11.7757 - val_loss: 21.8001\n",
            "Epoch 82/100\n",
            "1/1 - 0s - 62ms/step - loss: 11.0569 - val_loss: 22.2150\n",
            "Epoch 83/100\n",
            "1/1 - 0s - 63ms/step - loss: 10.4040 - val_loss: 22.6665\n",
            "Epoch 84/100\n",
            "1/1 - 0s - 54ms/step - loss: 9.8119 - val_loss: 23.1472\n",
            "Epoch 85/100\n",
            "1/1 - 0s - 66ms/step - loss: 9.2757 - val_loss: 23.6504\n",
            "Epoch 86/100\n",
            "1/1 - 0s - 55ms/step - loss: 8.7908 - val_loss: 24.1698\n",
            "Epoch 87/100\n",
            "1/1 - 0s - 52ms/step - loss: 8.3527 - val_loss: 24.6999\n",
            "Epoch 88/100\n",
            "1/1 - 0s - 59ms/step - loss: 7.9575 - val_loss: 25.2359\n",
            "Epoch 89/100\n",
            "1/1 - 0s - 59ms/step - loss: 7.6012 - val_loss: 25.7733\n",
            "Epoch 90/100\n",
            "1/1 - 0s - 62ms/step - loss: 7.2804 - val_loss: 26.3083\n",
            "Epoch 91/100\n",
            "1/1 - 0s - 52ms/step - loss: 6.9918 - val_loss: 26.8376\n",
            "Epoch 92/100\n",
            "1/1 - 0s - 59ms/step - loss: 6.7322 - val_loss: 27.3583\n",
            "Epoch 93/100\n",
            "1/1 - 0s - 67ms/step - loss: 6.4990 - val_loss: 27.8680\n",
            "Epoch 94/100\n",
            "1/1 - 0s - 134ms/step - loss: 6.2896 - val_loss: 28.3647\n",
            "Epoch 95/100\n",
            "1/1 - 0s - 129ms/step - loss: 6.1015 - val_loss: 28.8465\n",
            "Epoch 96/100\n",
            "1/1 - 0s - 104ms/step - loss: 5.9328 - val_loss: 29.3122\n",
            "Epoch 97/100\n",
            "1/1 - 0s - 101ms/step - loss: 5.7813 - val_loss: 29.7607\n",
            "Epoch 98/100\n",
            "1/1 - 0s - 102ms/step - loss: 5.6454 - val_loss: 30.1911\n",
            "Epoch 99/100\n",
            "1/1 - 0s - 127ms/step - loss: 5.5234 - val_loss: 30.6028\n",
            "Epoch 100/100\n",
            "1/1 - 0s - 138ms/step - loss: 5.4138 - val_loss: 30.9956\n"
          ]
        }
      ],
      "source": [
        "# compiling the sequential model\n",
        "optim = optimizers.SGD(learning_rate=lr_rate)\n",
        "model3.compile(loss='MSE', optimizer=optim)\n",
        "\n",
        "# training the model and saving metrics in history\n",
        "history3 = model3.fit(X_train_pn, Y_train, epochs=epoch, validation_data=(X_val_pn, Y_val), verbose = 2)"
      ]
    },
    {
      "cell_type": "code",
      "execution_count": 28,
      "metadata": {
        "id": "U4GK6Q6nVyn0",
        "outputId": "ecd23637-3c9c-4f25-e4a3-5406bfade906",
        "colab": {
          "base_uri": "https://localhost:8080/"
        }
      },
      "outputs": [
        {
          "output_type": "stream",
          "name": "stdout",
          "text": [
            "\u001b[1m1/1\u001b[0m \u001b[32m━━━━━━━━━━━━━━━━━━━━\u001b[0m\u001b[37m\u001b[0m \u001b[1m0s\u001b[0m 47ms/step\n"
          ]
        }
      ],
      "source": [
        "Y_pred3 = model3.predict(X_test_pn)"
      ]
    },
    {
      "cell_type": "code",
      "execution_count": 29,
      "metadata": {
        "id": "fO2vuH1nVyn1",
        "outputId": "a0fa94ea-f782-4de8-ab96-48fdeccf8631",
        "colab": {
          "base_uri": "https://localhost:8080/",
          "height": 472
        }
      },
      "outputs": [
        {
          "output_type": "display_data",
          "data": {
            "text/plain": [
              "<Figure size 640x480 with 1 Axes>"
            ],
            "image/png": "[encoded data removed]"
          },
          "metadata": {}
        }
      ],
      "source": [
        "plt.plot(X_test,Y_pred3,'x', color=\"red\")\n",
        "plt.plot(X_test,Y_test,'x', color=\"green\")\n",
        "plt.title('Training data')\n",
        "plt.xlabel('Change in water level (X)')\n",
        "plt.ylabel('Water floeing out of the dam (Y)')\n",
        "plt.legend(['Prediction', 'Test'])\n",
        "plt.show()"
      ]
    },
    {
      "cell_type": "code",
      "execution_count": 30,
      "metadata": {
        "id": "uLPTs33RVyn1",
        "outputId": "222c8c81-70b1-4c56-ee82-49ede307e58a",
        "colab": {
          "base_uri": "https://localhost:8080/",
          "height": 490
        }
      },
      "outputs": [
        {
          "output_type": "execute_result",
          "data": {
            "text/plain": [
              "<matplotlib.legend.Legend at 0x7a4bf8467850>"
            ]
          },
          "metadata": {},
          "execution_count": 30
        },
        {
          "output_type": "display_data",
          "data": {
            "text/plain": [
              "<Figure size 640x480 with 1 Axes>"
            ],
            "image/png": "[encoded data removed]"
          },
          "metadata": {}
        }
      ],
      "source": [
        "# plotting the metrics\n",
        "fig = plt.figure()\n",
        "plt.plot(history3.history['loss'])\n",
        "plt.plot(history3.history['val_loss'])\n",
        "plt.title('Loss functions')\n",
        "plt.ylabel('loss')\n",
        "plt.xlabel('epoch')\n",
        "plt.legend(['Train loss', 'Validation loss'])"
      ]
    },
    {
      "cell_type": "markdown",
      "metadata": {
        "id": "zY8m6ulYVyn1"
      },
      "source": [
        "It can be seen that the model learns too much on the training samples and after the 60th epoch the cost function of the training samples continues to decrease, but the result on the validation samples starts to deteriorate. This means that although the cost function of the training samples performs well below an expected level, the cost function of the validation and test samples will be well above the expected result. The \"scissors are open\", there will be a large gap between the two cost functions.\n",
        "\n",
        "<img src=\"https://github.com/Fortuz/edu_Adaptive/blob/main/practices/assets/Lab08/Pics/L08_HighVariance.png?raw=1\" width=\"600\">"
      ]
    },
    {
      "cell_type": "markdown",
      "metadata": {
        "id": "o3I9WTjJVyn1"
      },
      "source": [
        "### 5: Summary and Tips\n",
        "\n",
        "Underfitting (High Bias problem):\n",
        "- Adding more input parameters to the model (either independent or polynomial).\n",
        "- $\\lambda$ parameter reduction, i.e. less penalization.\n",
        "- Increase the epoch number.\n",
        "- Increase $\\alpha$ (learning rate).\n",
        "\n",
        "Overfitting (High Variance problem):\n",
        "- Less input parameter.\n",
        "- Increase the $\\lambda$ parameter, i.e. we penalize more.\n",
        "- More learning samples.\n",
        "- Reducing $\\alpha$ (learning rate)."
      ]
    },
    {
      "cell_type": "markdown",
      "metadata": {
        "id": "IfSpwU1hVyn2"
      },
      "source": [
        "<div style=\"text-align: right\">This lab exercise uses elements from Andrew Ng's Machine Learning course.</div>"
      ]
    }
  ],
  "metadata": {
    "kernelspec": {
      "display_name": "Python 3",
      "language": "python",
      "name": "python3"
    },
    "language_info": {
      "codemirror_mode": {
        "name": "ipython",
        "version": 3
      },
      "file_extension": ".py",
      "mimetype": "text/x-python",
      "name": "python",
      "nbconvert_exporter": "python",
      "pygments_lexer": "ipython3",
      "version": "3.7.7"
    },
    "colab": {
      "provenance": []
    }
  },
  "nbformat": 4,
  "nbformat_minor": 0
}